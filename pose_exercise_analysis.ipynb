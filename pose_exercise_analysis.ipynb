{
 "cells": [
  {
   "cell_type": "code",
   "execution_count": 1,
   "metadata": {},
   "outputs": [],
   "source": [
    "import pickle\n",
    "import matplotlib.pyplot as plt\n",
    "from geometry_msgs.msg import Pose, PoseStamped\n",
    "from src.ur10e_custom_control.ur10e_custom_control.ur_exercise_qt import Exercise\n",
    "import transforms3d\n",
    "import numpy as np\n",
    "from mpl_toolkits.mplot3d import Axes3D\n",
    "from geometry_msgs.msg import Vector3, Quaternion\n",
    "from dataclasses import asdict"
   ]
  },
  {
   "cell_type": "code",
   "execution_count": 2,
   "metadata": {},
   "outputs": [],
   "source": [
    "with open(\"circular_ee_traj_real.exercise\", \"rb\") as fp:\n",
    "    mock_exercise: Exercise = Exercise(**pickle.load(fp))"
   ]
  },
  {
   "cell_type": "code",
   "execution_count": 3,
   "metadata": {},
   "outputs": [],
   "source": [
    "def extract_positions_orientations(poses: list[PoseStamped], decimation: int = 1):\n",
    "    x_vals, y_vals, z_vals = [], [], []\n",
    "    frames = []  # Store coordinate frame data\n",
    "    \n",
    "    for i in range(len(poses)):\n",
    "        if i % decimation != 0:\n",
    "            continue\n",
    "        # Extract position\n",
    "        x_vals.append(poses[i].pose.position.x)\n",
    "        y_vals.append(poses[i].pose.position.y)\n",
    "        z_vals.append(poses[i].pose.position.z)\n",
    "\n",
    "        # Convert quaternion to rotation matrix\n",
    "        quat = [poses[i].pose.orientation.x, poses[i].pose.orientation.y, poses[i].pose.orientation.z, poses[i].pose.orientation.w]\n",
    "        rot_matrix = transforms3d.quaternions.quat2mat(quat)[:3, :3]  # Extract 3x3 rotation\n",
    "        \n",
    "        frames.append((poses[i].pose.position.x, poses[i].pose.position.y, poses[i].pose.position.z, rot_matrix))\n",
    "    \n",
    "    return x_vals, y_vals, z_vals, frames\n"
   ]
  },
  {
   "cell_type": "code",
   "execution_count": 4,
   "metadata": {},
   "outputs": [],
   "source": [
    "x_vals, y_vals, z_vals, frames = extract_positions_orientations(mock_exercise.poses)"
   ]
  },
  {
   "cell_type": "code",
   "execution_count": 5,
   "metadata": {},
   "outputs": [],
   "source": [
    "# Plot 3D Visualization\n",
    "%matplotlib inline\n",
    "def plot_3d(x_vals, y_vals, z_vals, frames):\n",
    "    fig = plt.figure(figsize=(8, 6))\n",
    "    ax = fig.add_subplot(111, projection='3d')\n",
    "    ax.scatter(x_vals, y_vals, z_vals, color='blue', label=\"Positions\")\n",
    "\n",
    "    # Plot frames (X, Y, Z axes)\n",
    "    frame_scale = 0.01\n",
    "    for x, y, z, rot_matrix in frames:\n",
    "        for i, color in enumerate(['r', 'g', 'b']):  # X (red), Y (green), Z (blue)\n",
    "            ax.quiver(x, y, z, \n",
    "                    rot_matrix[0, i] * frame_scale, \n",
    "                    rot_matrix[1, i] * frame_scale, \n",
    "                    rot_matrix[2, i] * frame_scale, \n",
    "                    color=color)\n",
    "\n",
    "    ax.set_xlabel(\"X Position\")\n",
    "    ax.set_ylabel(\"Y Position\")\n",
    "    ax.set_zlabel(\"Z Position\")\n",
    "    # Function to set equal axes in 3D\n",
    "    def set_axes_equal(ax):\n",
    "        \"\"\"Set equal scale for all axes in a 3D plot.\"\"\"\n",
    "        limits = np.array([ax.get_xlim(), ax.get_ylim(), ax.get_zlim()])\n",
    "        span = limits[:,1] - limits[:,0]\n",
    "        center = np.mean(limits, axis=1)\n",
    "        radius = 0.5 * max(span)\n",
    "        ax.set_xlim(center[0] - radius, center[0] + radius)\n",
    "        ax.set_ylim(center[1] - radius, center[1] + radius)\n",
    "        ax.set_zlim(center[2] - radius, center[2] + radius)\n",
    "\n",
    "    # Apply equal axes\n",
    "    set_axes_equal(ax)\n",
    "    ax.set_title(\"3D Pose Visualization\")\n",
    "    ax.legend()"
   ]
  },
  {
   "cell_type": "code",
   "execution_count": 51,
   "metadata": {},
   "outputs": [],
   "source": [
    "def transform_poses(poses: list[PoseStamped], decimation: int = 1) -> list[PoseStamped]:\n",
    "    transformed_poses = []\n",
    "    headers = [pose.header for pose in poses]\n",
    "    for i in range(len(poses)-1):\n",
    "        if i % decimation == 0 and i != 0:\n",
    "            t1 = poses[i-decimation].pose\n",
    "            t2 = poses[i].pose\n",
    "\n",
    "            v = np.array([\n",
    "                t2.position.x - t1.position.x,\n",
    "                t2.position.y - t1.position.y,\n",
    "                t2.position.z - t1.position.z\n",
    "            ])\n",
    "\n",
    "            u = v / np.linalg.norm(v)\n",
    "\n",
    "            # TODO(george): why does this work...\n",
    "            r = np.cross(u, np.array([0, 0, -1]).T)\n",
    "            if np.any(np.isnan(r)):\n",
    "                q_new = Quaternion(w=1.0,x=0.0,y=0.0,z=0.0)\n",
    "            else:\n",
    "                theta = np.arccos(np.dot(u, np.array([0, 0, -1]).T))\n",
    "                _q = transforms3d.quaternions.axangle2quat(r, theta)\n",
    "                q_new = Quaternion(w=_q[0], x=_q[1], y=_q[2], z=_q[3])\n",
    "                transformed_poses.append(\n",
    "                    PoseStamped(\n",
    "                        pose = Pose(\n",
    "                            position = t1.position,\n",
    "                            orientation = q_new\n",
    "                        ),\n",
    "                        header = headers[i]\n",
    "                    )\n",
    "                )\n",
    "\n",
    "    transformed_poses.append(poses[-1])\n",
    "    return transformed_poses"
   ]
  },
  {
   "cell_type": "code",
   "execution_count": 39,
   "metadata": {},
   "outputs": [],
   "source": [
    "%matplotlib qt\n",
    "plot_3d(*extract_positions_orientations(mock_exercise.poses, decimation = 5))"
   ]
  },
  {
   "cell_type": "code",
   "execution_count": 40,
   "metadata": {},
   "outputs": [],
   "source": [
    "%matplotlib qt\n",
    "plot_3d(*extract_positions_orientations(transform_poses(mock_exercise.poses, decimation = 20)))"
   ]
  },
  {
   "cell_type": "code",
   "execution_count": 52,
   "metadata": {},
   "outputs": [],
   "source": [
    "# plot_3d(*extract_positions_orientations(transform_poses(mock_exercise.poses, decimation = 1)[100:-100]))\n",
    "plot_3d(*extract_positions_orientations(transform_poses(mock_exercise.poses, decimation = 20)[5:-5]))"
   ]
  },
  {
   "cell_type": "code",
   "execution_count": 47,
   "metadata": {},
   "outputs": [],
   "source": [
    "modified_exercise = Exercise(\n",
    "    name = mock_exercise.name,\n",
    "    poses = transform_poses(mock_exercise.poses, decimation = 20)[5:-5],\n",
    "    joint_angles = mock_exercise.joint_angles[100:-100],\n",
    "    duration = mock_exercise.duration[100:-100]\n",
    ")"
   ]
  },
  {
   "cell_type": "code",
   "execution_count": 48,
   "metadata": {},
   "outputs": [],
   "source": [
    "with open(\"circular_ee_traj_real_modified_decimated.exercise\", \"wb\") as fp:\n",
    "    pickle.dump(asdict(modified_exercise), fp)"
   ]
  }
 ],
 "metadata": {
  "kernelspec": {
   "display_name": "Python 3",
   "language": "python",
   "name": "python3"
  },
  "language_info": {
   "codemirror_mode": {
    "name": "ipython",
    "version": 3
   },
   "file_extension": ".py",
   "mimetype": "text/x-python",
   "name": "python",
   "nbconvert_exporter": "python",
   "pygments_lexer": "ipython3",
   "version": "3.10.12"
  }
 },
 "nbformat": 4,
 "nbformat_minor": 2
}
