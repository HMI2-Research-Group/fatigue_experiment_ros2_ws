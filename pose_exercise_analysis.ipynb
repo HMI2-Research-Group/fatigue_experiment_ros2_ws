{
 "cells": [
  {
   "cell_type": "code",
   "execution_count": 1,
   "metadata": {},
   "outputs": [
    {
     "name": "stderr",
     "output_type": "stream",
     "text": [
      "/home/gkouretas/.local/lib/python3.10/site-packages/matplotlib/projections/__init__.py:63: UserWarning: Unable to import Axes3D. This may be due to multiple versions of Matplotlib being installed (e.g. as a system package and as a pip package). As a result, the 3D projection is not available.\n",
      "  warnings.warn(\"Unable to import Axes3D. This may be due to multiple versions of \"\n"
     ]
    },
    {
     "ename": "ModuleNotFoundError",
     "evalue": "No module named 'ur_dashboard_msgs'",
     "output_type": "error",
     "traceback": [
      "\u001b[0;31m---------------------------------------------------------------------------\u001b[0m",
      "\u001b[0;31mModuleNotFoundError\u001b[0m                       Traceback (most recent call last)",
      "Cell \u001b[0;32mIn[1], line 4\u001b[0m\n\u001b[1;32m      2\u001b[0m \u001b[38;5;28;01mimport\u001b[39;00m\u001b[38;5;250m \u001b[39m\u001b[38;5;21;01mmatplotlib\u001b[39;00m\u001b[38;5;21;01m.\u001b[39;00m\u001b[38;5;21;01mpyplot\u001b[39;00m\u001b[38;5;250m \u001b[39m\u001b[38;5;28;01mas\u001b[39;00m\u001b[38;5;250m \u001b[39m\u001b[38;5;21;01mplt\u001b[39;00m\n\u001b[1;32m      3\u001b[0m \u001b[38;5;28;01mfrom\u001b[39;00m\u001b[38;5;250m \u001b[39m\u001b[38;5;21;01mgeometry_msgs\u001b[39;00m\u001b[38;5;21;01m.\u001b[39;00m\u001b[38;5;21;01mmsg\u001b[39;00m\u001b[38;5;250m \u001b[39m\u001b[38;5;28;01mimport\u001b[39;00m Pose, PoseStamped\n\u001b[0;32m----> 4\u001b[0m \u001b[38;5;28;01mfrom\u001b[39;00m\u001b[38;5;250m \u001b[39m\u001b[38;5;21;01msrc\u001b[39;00m\u001b[38;5;21;01m.\u001b[39;00m\u001b[38;5;21;01mur10e_custom_control\u001b[39;00m\u001b[38;5;21;01m.\u001b[39;00m\u001b[38;5;21;01mur10e_custom_control\u001b[39;00m\u001b[38;5;21;01m.\u001b[39;00m\u001b[38;5;21;01mur_exercise_qt\u001b[39;00m\u001b[38;5;250m \u001b[39m\u001b[38;5;28;01mimport\u001b[39;00m Exercise\n\u001b[1;32m      5\u001b[0m \u001b[38;5;28;01mimport\u001b[39;00m\u001b[38;5;250m \u001b[39m\u001b[38;5;21;01mtransforms3d\u001b[39;00m\n\u001b[1;32m      6\u001b[0m \u001b[38;5;28;01mimport\u001b[39;00m\u001b[38;5;250m \u001b[39m\u001b[38;5;21;01mnumpy\u001b[39;00m\u001b[38;5;250m \u001b[39m\u001b[38;5;28;01mas\u001b[39;00m\u001b[38;5;250m \u001b[39m\u001b[38;5;21;01mnp\u001b[39;00m\n",
      "File \u001b[0;32m~/ros2_ws/src/ur10e_custom_control/ur10e_custom_control/ur_exercise_qt.py:12\u001b[0m\n\u001b[1;32m      8\u001b[0m \u001b[38;5;28;01mfrom\u001b[39;00m\u001b[38;5;250m \u001b[39m\u001b[38;5;21;01mrclpy\u001b[39;00m\u001b[38;5;21;01m.\u001b[39;00m\u001b[38;5;21;01mexecutors\u001b[39;00m\u001b[38;5;250m \u001b[39m\u001b[38;5;28;01mimport\u001b[39;00m SingleThreadedExecutor\n\u001b[1;32m     10\u001b[0m \u001b[38;5;28;01mfrom\u001b[39;00m\u001b[38;5;250m \u001b[39m\u001b[38;5;21;01mPyQt5\u001b[39;00m\u001b[38;5;21;01m.\u001b[39;00m\u001b[38;5;21;01mQtWidgets\u001b[39;00m\u001b[38;5;250m \u001b[39m\u001b[38;5;28;01mimport\u001b[39;00m \u001b[38;5;241m*\u001b[39m\n\u001b[0;32m---> 12\u001b[0m \u001b[38;5;28;01mfrom\u001b[39;00m\u001b[38;5;250m \u001b[39m\u001b[38;5;21;01mur_control_qt\u001b[39;00m\u001b[38;5;250m \u001b[39m\u001b[38;5;28;01mimport\u001b[39;00m URControlQtWindow\n\u001b[1;32m     13\u001b[0m \u001b[38;5;28;01mfrom\u001b[39;00m\u001b[38;5;250m \u001b[39m\u001b[38;5;21;01mur10e_configs\u001b[39;00m\u001b[38;5;250m \u001b[39m\u001b[38;5;28;01mimport\u001b[39;00m UR_QOS_PROFILE\n\u001b[1;32m     14\u001b[0m \u001b[38;5;28;01mfrom\u001b[39;00m\u001b[38;5;250m \u001b[39m\u001b[38;5;21;01msensor_msgs\u001b[39;00m\u001b[38;5;21;01m.\u001b[39;00m\u001b[38;5;21;01mmsg\u001b[39;00m\u001b[38;5;250m \u001b[39m\u001b[38;5;28;01mimport\u001b[39;00m JointState\n",
      "File \u001b[0;32m~/ros2_ws/src/ur10e_custom_control/ur10e_custom_control/ur_control_qt.py:14\u001b[0m\n\u001b[1;32m     11\u001b[0m \u001b[38;5;28;01mfrom\u001b[39;00m\u001b[38;5;250m \u001b[39m\u001b[38;5;21;01mPyQt5\u001b[39;00m\u001b[38;5;21;01m.\u001b[39;00m\u001b[38;5;21;01mQtCore\u001b[39;00m\u001b[38;5;250m \u001b[39m\u001b[38;5;28;01mimport\u001b[39;00m Qt, QTimer\n\u001b[1;32m     13\u001b[0m \u001b[38;5;28;01mfrom\u001b[39;00m\u001b[38;5;250m \u001b[39m\u001b[38;5;21;01mtyping\u001b[39;00m\u001b[38;5;250m \u001b[39m\u001b[38;5;28;01mimport\u001b[39;00m Optional, Callable, Any\n\u001b[0;32m---> 14\u001b[0m \u001b[38;5;28;01mfrom\u001b[39;00m\u001b[38;5;250m \u001b[39m\u001b[38;5;21;01mur_robot_sm\u001b[39;00m\u001b[38;5;250m \u001b[39m\u001b[38;5;28;01mimport\u001b[39;00m URRobotSM\n\u001b[1;32m     15\u001b[0m \u001b[38;5;28;01mfrom\u001b[39;00m\u001b[38;5;250m \u001b[39m\u001b[38;5;21;01mur10e_typedefs\u001b[39;00m\u001b[38;5;250m \u001b[39m\u001b[38;5;28;01mimport\u001b[39;00m URService\n\u001b[1;32m     16\u001b[0m \u001b[38;5;28;01mfrom\u001b[39;00m\u001b[38;5;250m \u001b[39m\u001b[38;5;21;01mur10e_configs\u001b[39;00m\u001b[38;5;250m \u001b[39m\u001b[38;5;28;01mimport\u001b[39;00m (\n\u001b[1;32m     17\u001b[0m     UR_HOME_POSE, UR_JOINT_LIST\n\u001b[1;32m     18\u001b[0m )\n",
      "File \u001b[0;32m~/ros2_ws/src/ur10e_custom_control/ur10e_custom_control/ur_robot_sm.py:4\u001b[0m\n\u001b[1;32m      1\u001b[0m \u001b[38;5;28;01mimport\u001b[39;00m\u001b[38;5;250m \u001b[39m\u001b[38;5;21;01mtime\u001b[39;00m\n\u001b[1;32m      3\u001b[0m \u001b[38;5;28;01mfrom\u001b[39;00m\u001b[38;5;250m \u001b[39m\u001b[38;5;21;01mrclpy\u001b[39;00m\u001b[38;5;21;01m.\u001b[39;00m\u001b[38;5;21;01mnode\u001b[39;00m\u001b[38;5;250m \u001b[39m\u001b[38;5;28;01mimport\u001b[39;00m Node\n\u001b[0;32m----> 4\u001b[0m \u001b[38;5;28;01mfrom\u001b[39;00m\u001b[38;5;250m \u001b[39m\u001b[38;5;21;01mur10e_typedefs\u001b[39;00m\u001b[38;5;250m \u001b[39m\u001b[38;5;28;01mimport\u001b[39;00m URService\n\u001b[1;32m      5\u001b[0m \u001b[38;5;28;01mfrom\u001b[39;00m\u001b[38;5;250m \u001b[39m\u001b[38;5;21;01mur_robot_node\u001b[39;00m\u001b[38;5;250m \u001b[39m\u001b[38;5;28;01mimport\u001b[39;00m URRobot\n\u001b[1;32m      6\u001b[0m \u001b[38;5;28;01mfrom\u001b[39;00m\u001b[38;5;250m \u001b[39m\u001b[38;5;21;01mrclpy\u001b[39;00m\u001b[38;5;21;01m.\u001b[39;00m\u001b[38;5;21;01msubscription\u001b[39;00m\u001b[38;5;250m \u001b[39m\u001b[38;5;28;01mimport\u001b[39;00m Subscription\n",
      "File \u001b[0;32m~/ros2_ws/src/ur10e_custom_control/ur10e_custom_control/ur10e_typedefs.py:10\u001b[0m\n\u001b[1;32m      7\u001b[0m \u001b[38;5;28;01mfrom\u001b[39;00m\u001b[38;5;250m \u001b[39m\u001b[38;5;21;01mstd_srvs\u001b[39;00m\u001b[38;5;21;01m.\u001b[39;00m\u001b[38;5;21;01msrv\u001b[39;00m\u001b[38;5;250m \u001b[39m\u001b[38;5;28;01mimport\u001b[39;00m Trigger\n\u001b[1;32m      9\u001b[0m \u001b[38;5;28;01mfrom\u001b[39;00m\u001b[38;5;250m \u001b[39m\u001b[38;5;21;01mcontroller_manager_msgs\u001b[39;00m\u001b[38;5;21;01m.\u001b[39;00m\u001b[38;5;21;01msrv\u001b[39;00m\u001b[38;5;250m \u001b[39m\u001b[38;5;28;01mimport\u001b[39;00m ListControllers, SwitchController\n\u001b[0;32m---> 10\u001b[0m \u001b[38;5;28;01mfrom\u001b[39;00m\u001b[38;5;250m \u001b[39m\u001b[38;5;21;01mur_dashboard_msgs\u001b[39;00m\u001b[38;5;21;01m.\u001b[39;00m\u001b[38;5;21;01msrv\u001b[39;00m\u001b[38;5;250m \u001b[39m\u001b[38;5;28;01mimport\u001b[39;00m (\n\u001b[1;32m     11\u001b[0m     GetLoadedProgram,\n\u001b[1;32m     12\u001b[0m     GetProgramState,\n\u001b[1;32m     13\u001b[0m     GetRobotMode,\n\u001b[1;32m     14\u001b[0m     GetSafetyMode,\n\u001b[1;32m     15\u001b[0m     IsProgramRunning,\n\u001b[1;32m     16\u001b[0m     Load,\n\u001b[1;32m     17\u001b[0m )\n\u001b[1;32m     18\u001b[0m \u001b[38;5;28;01mfrom\u001b[39;00m\u001b[38;5;250m \u001b[39m\u001b[38;5;21;01mur_msgs\u001b[39;00m\u001b[38;5;21;01m.\u001b[39;00m\u001b[38;5;21;01msrv\u001b[39;00m\u001b[38;5;250m \u001b[39m\u001b[38;5;28;01mimport\u001b[39;00m (\n\u001b[1;32m     19\u001b[0m     SetIO, \n\u001b[1;32m     20\u001b[0m     GetRobotSoftwareVersion, \n\u001b[0;32m   (...)\u001b[0m\n\u001b[1;32m     24\u001b[0m     SetFreedriveParams\n\u001b[1;32m     25\u001b[0m )\n\u001b[1;32m     27\u001b[0m \u001b[38;5;28;01mfrom\u001b[39;00m\u001b[38;5;250m \u001b[39m\u001b[38;5;21;01mur_msgs\u001b[39;00m\u001b[38;5;21;01m.\u001b[39;00m\u001b[38;5;21;01maction\u001b[39;00m\u001b[38;5;250m \u001b[39m\u001b[38;5;28;01mimport\u001b[39;00m DynamicForceModePath\n",
      "\u001b[0;31mModuleNotFoundError\u001b[0m: No module named 'ur_dashboard_msgs'"
     ]
    }
   ],
   "source": [
    "import pickle\n",
    "import matplotlib.pyplot as plt\n",
    "from geometry_msgs.msg import Pose, PoseStamped\n",
    "from src.ur10e_custom_control.ur10e_custom_control.ur_exercise_qt import Exercise\n",
    "import transforms3d\n",
    "import numpy as np\n",
    "from mpl_toolkits.mplot3d import Axes3D\n",
    "from geometry_msgs.msg import Vector3, Quaternion\n",
    "from dataclasses import asdict"
   ]
  },
  {
   "cell_type": "code",
   "execution_count": 2,
   "metadata": {},
   "outputs": [],
   "source": [
    "with open(\"complex_trajectory.exercise\", \"rb\") as fp:\n",
    "    mock_exercise: Exercise = Exercise(**pickle.load(fp))"
   ]
  },
  {
   "cell_type": "code",
   "execution_count": 3,
   "metadata": {},
   "outputs": [],
   "source": [
    "def extract_positions_orientations(poses: list[PoseStamped], decimation: int = 1):\n",
    "    x_vals, y_vals, z_vals = [], [], []\n",
    "    frames = []  # Store coordinate frame data\n",
    "    \n",
    "    for i in range(len(poses)):\n",
    "        if i % decimation != 0:\n",
    "            continue\n",
    "        # Extract position\n",
    "        x_vals.append(poses[i].pose.position.x)\n",
    "        y_vals.append(poses[i].pose.position.y)\n",
    "        z_vals.append(poses[i].pose.position.z)\n",
    "\n",
    "        # Convert quaternion to rotation matrix\n",
    "        quat = [poses[i].pose.orientation.x, poses[i].pose.orientation.y, poses[i].pose.orientation.z, poses[i].pose.orientation.w]\n",
    "        rot_matrix = transforms3d.quaternions.quat2mat(quat)[:3, :3]  # Extract 3x3 rotation\n",
    "        \n",
    "        frames.append((poses[i].pose.position.x, poses[i].pose.position.y, poses[i].pose.position.z, rot_matrix))\n",
    "    \n",
    "    return x_vals, y_vals, z_vals, frames\n"
   ]
  },
  {
   "cell_type": "code",
   "execution_count": 4,
   "metadata": {},
   "outputs": [],
   "source": [
    "x_vals, y_vals, z_vals, frames = extract_positions_orientations(mock_exercise.poses)"
   ]
  },
  {
   "cell_type": "code",
   "execution_count": 5,
   "metadata": {},
   "outputs": [],
   "source": [
    "# Plot 3D Visualization\n",
    "%matplotlib inline\n",
    "def plot_3d(x_vals, y_vals, z_vals, frames):\n",
    "    fig = plt.figure(figsize=(8, 6))\n",
    "    ax = fig.add_subplot(111, projection='3d')\n",
    "    ax.scatter(x_vals, y_vals, z_vals, color='blue', label=\"Positions\")\n",
    "\n",
    "    # Plot frames (X, Y, Z axes)\n",
    "    frame_scale = 0.01\n",
    "    for x, y, z, rot_matrix in frames:\n",
    "        for i, color in enumerate(['r', 'g', 'b']):  # X (red), Y (green), Z (blue)\n",
    "            ax.quiver(x, y, z, \n",
    "                    rot_matrix[0, i] * frame_scale, \n",
    "                    rot_matrix[1, i] * frame_scale, \n",
    "                    rot_matrix[2, i] * frame_scale, \n",
    "                    color=color)\n",
    "\n",
    "    ax.set_xlabel(\"X Position\")\n",
    "    ax.set_ylabel(\"Y Position\")\n",
    "    ax.set_zlabel(\"Z Position\")\n",
    "    # Function to set equal axes in 3D\n",
    "    def set_axes_equal(ax):\n",
    "        \"\"\"Set equal scale for all axes in a 3D plot.\"\"\"\n",
    "        limits = np.array([ax.get_xlim(), ax.get_ylim(), ax.get_zlim()])\n",
    "        span = limits[:,1] - limits[:,0]\n",
    "        center = np.mean(limits, axis=1)\n",
    "        radius = 0.5 * max(span)\n",
    "        ax.set_xlim(center[0] - radius, center[0] + radius)\n",
    "        ax.set_ylim(center[1] - radius, center[1] + radius)\n",
    "        ax.set_zlim(center[2] - radius, center[2] + radius)\n",
    "\n",
    "    # Apply equal axes\n",
    "    set_axes_equal(ax)\n",
    "    ax.set_title(\"3D Pose Visualization\")\n",
    "    ax.legend()"
   ]
  },
  {
   "cell_type": "code",
   "execution_count": 6,
   "metadata": {},
   "outputs": [],
   "source": [
    "def transform_poses(poses: list[PoseStamped], decimation: int = 1) -> list[PoseStamped]:\n",
    "    transformed_poses = []\n",
    "    headers = [pose.header for pose in poses]\n",
    "    for i in range(len(poses)-1):\n",
    "        if i % decimation == 0 and i != 0:\n",
    "            t1 = poses[i-decimation].pose\n",
    "            t2 = poses[i].pose\n",
    "\n",
    "            v = np.array([\n",
    "                t2.position.x - t1.position.x,\n",
    "                t2.position.y - t1.position.y,\n",
    "                t2.position.z - t1.position.z\n",
    "            ])\n",
    "\n",
    "            u = v / np.linalg.norm(v)\n",
    "\n",
    "            # TODO(george): why does this work...\n",
    "            r = np.cross(u, np.array([0, 0, -1]).T)\n",
    "            if np.any(np.isnan(r)):\n",
    "                q_new = Quaternion(w=1.0,x=0.0,y=0.0,z=0.0)\n",
    "            else:\n",
    "                theta = np.arccos(np.dot(u, np.array([0, 0, -1]).T))\n",
    "                _q = transforms3d.quaternions.axangle2quat(r, theta)\n",
    "                q_new = Quaternion(w=_q[0], x=_q[1], y=_q[2], z=_q[3])\n",
    "                transformed_poses.append(\n",
    "                    PoseStamped(\n",
    "                        pose = Pose(\n",
    "                            position = t1.position,\n",
    "                            orientation = q_new\n",
    "                        ),\n",
    "                        header = headers[i]\n",
    "                    )\n",
    "                )\n",
    "\n",
    "    transformed_poses.append(poses[-1])\n",
    "    return transformed_poses"
   ]
  },
  {
   "cell_type": "code",
   "execution_count": 7,
   "metadata": {},
   "outputs": [],
   "source": [
    "def get_trajectory(poses: list[PoseStamped], distance_threshold: float = 10/1000):\n",
    "    def dist3d(_t1: PoseStamped, _t2: PoseStamped) -> float:\n",
    "        return ((_t1.pose.position.x-_t2.pose.position.x)**2 + \\\n",
    "                (_t1.pose.position.y-_t2.pose.position.y)**2 + \\\n",
    "                (_t1.pose.position.z-_t2.pose.position.z)**2)**0.5\n",
    "    \n",
    "    last_pose: PoseStamped = poses[0]\n",
    "    trajectory = [] # Do not include initial pose in the trajectory\n",
    "    for pose in poses:\n",
    "        if dist3d(last_pose, pose) >= 10/1000:\n",
    "            last_pose = pose\n",
    "            trajectory.append(pose)\n",
    "\n",
    "    return trajectory"
   ]
  },
  {
   "cell_type": "code",
   "execution_count": 8,
   "metadata": {},
   "outputs": [
    {
     "name": "stderr",
     "output_type": "stream",
     "text": [
      "qt.qpa.plugin: Could not find the Qt platform plugin \"wayland\" in \"\"\n"
     ]
    }
   ],
   "source": [
    "%matplotlib qt\n",
    "plot_3d(*extract_positions_orientations(mock_exercise.poses, decimation = 5))"
   ]
  },
  {
   "cell_type": "code",
   "execution_count": 9,
   "metadata": {},
   "outputs": [],
   "source": [
    "%matplotlib qt\n",
    "plot_3d(*extract_positions_orientations(get_trajectory(mock_exercise.poses, distance_threshold=20/1000)))"
   ]
  },
  {
   "cell_type": "code",
   "execution_count": 10,
   "metadata": {},
   "outputs": [],
   "source": [
    "# plot_3d(*extract_positions_orientations(transform_poses(mock_exercise.poses, decimation = 1)[100:-100]))\n",
    "plot_3d(*extract_positions_orientations(transform_poses(mock_exercise.poses, decimation = 10)[10:-10]))"
   ]
  },
  {
   "cell_type": "code",
   "execution_count": 11,
   "metadata": {},
   "outputs": [],
   "source": [
    "modified_exercise = Exercise(\n",
    "    name = mock_exercise.name,\n",
    "    poses = get_trajectory(mock_exercise.poses),\n",
    "    joint_angles = mock_exercise.joint_angles,\n",
    "    duration = mock_exercise.duration\n",
    ")"
   ]
  },
  {
   "cell_type": "code",
   "execution_count": 12,
   "metadata": {},
   "outputs": [],
   "source": [
    "with open(\"complex_trajectory_modified.exercise\", \"wb\") as fp:\n",
    "    pickle.dump(asdict(modified_exercise), fp)"
   ]
  }
 ],
 "metadata": {
  "kernelspec": {
   "display_name": "Python 3",
   "language": "python",
   "name": "python3"
  },
  "language_info": {
   "codemirror_mode": {
    "name": "ipython",
    "version": 3
   },
   "file_extension": ".py",
   "mimetype": "text/x-python",
   "name": "python",
   "nbconvert_exporter": "python",
   "pygments_lexer": "ipython3",
   "version": "3.10.12"
  }
 },
 "nbformat": 4,
 "nbformat_minor": 2
}
